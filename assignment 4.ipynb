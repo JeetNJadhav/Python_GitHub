{
 "cells": [
  {
   "cell_type": "markdown",
   "metadata": {},
   "source": [
    "## Capstone Project Phase 1:"
   ]
  },
  {
   "cell_type": "markdown",
   "metadata": {},
   "source": [
    "### Assignment 1: Build the team & other logistics \\[3 Points\\]\n",
    "\n",
    "1. Find members, make team.\n",
    "2. Select team lead and create one github repository per team for project.\n",
    "3. Create Readme.MD file and put name of your teammates. Submit the repository link."
   ]
  },
  {
   "cell_type": "code",
   "execution_count": null,
   "metadata": {},
   "outputs": [],
   "source": []
  },
  {
   "cell_type": "markdown",
   "metadata": {},
   "source": [
    "### Assignment 2: Pick Problem Statement & Dataset \\[5 Points\\]\n",
    "\n",
    "1. Define your problem statement. (tentative, can be changed in future)\n",
    "2. Find the dataset for your project.\n",
    "3. Add details of problem statement & dataset link to your github readme file."
   ]
  },
  {
   "cell_type": "code",
   "execution_count": null,
   "metadata": {},
   "outputs": [],
   "source": [
    "link: https://github.com/priyam001/Python-Project.git"
   ]
  },
  {
   "cell_type": "markdown",
   "metadata": {},
   "source": [
    "## Python Pandas Assignment:"
   ]
  },
  {
   "cell_type": "code",
   "execution_count": 11,
   "metadata": {},
   "outputs": [
    {
     "name": "stdout",
     "output_type": "stream",
     "text": [
      "       a  b         c         d\n",
      "0   Five  3  2.356823  2.383817\n",
      "1  Three  2  3.158519  2.425340\n",
      "2    One  2  1.582575  1.772738\n",
      "3    One  1  2.521434  3.176768\n",
      "4   Five  2  1.170697  2.871335\n",
      "5  Three  2  3.339852  3.259460\n",
      "6   Five  2  1.019235  1.421825\n",
      "7    One  3  2.574255  1.018280\n",
      "8    One  1  2.709086  1.974258\n",
      "9    One  3  3.374600  1.007127\n"
     ]
    }
   ],
   "source": [
    "# Problem: Create dataframe with custom row index & column name. The dimension should be 10x4. \n",
    "#    Custom Index should start from 101 to 110. column name should be `a` to `d`. \n",
    "#    `a` should be strings, `b` should be numbers, `c` & 'd' should be float.\n",
    "#     fill up random values using numpy.random.  [4 Points]\n",
    "import pandas as pd\n",
    "import numpy as np\n",
    "\n",
    "df= pd.DataFrame({'a': np.random.choice(['One', 'Five', 'Three'], 10),\n",
    "                 'b':np.random.randint(1,4,10),\n",
    "                 'c':np.random.uniform(1.0,4.0,10),\n",
    "                 'd':np.random.uniform(1.0,4.0,10)})\n",
    "    # TODO: Implement rest 3 columns \n",
    "print(df)"
   ]
  },
  {
   "cell_type": "code",
   "execution_count": 12,
   "metadata": {},
   "outputs": [
    {
     "data": {
      "text/plain": [
       "100         a  b         c         d\\n  Five  3  2.35...\n",
       "101         a  b         c         d\\n  Five  3  2.35...\n",
       "102         a  b         c         d\\n  Five  3  2.35...\n",
       "103         a  b         c         d\\n  Five  3  2.35...\n",
       "dtype: object"
      ]
     },
     "execution_count": 12,
     "metadata": {},
     "output_type": "execute_result"
    }
   ],
   "source": [
    "# Problem: Use the original dataframe to create another dataframe that has rows from index 103 to 108. [1 Points]\n",
    "a=df[0:5]\n",
    "\n",
    "'''\n",
    "c=pd.DataFrame(b,index=[103,104,105,106,107,108,109])\n",
    "c\n",
    "'''\n",
    "b=a.copy().to_string(index=False)\n",
    "\n",
    "d=pd.Series(b, index=[100, 101, 102, 103])\n",
    "d"
   ]
  },
  {
   "cell_type": "code",
   "execution_count": 13,
   "metadata": {},
   "outputs": [
    {
     "data": {
      "text/html": [
       "<div>\n",
       "<style scoped>\n",
       "    .dataframe tbody tr th:only-of-type {\n",
       "        vertical-align: middle;\n",
       "    }\n",
       "\n",
       "    .dataframe tbody tr th {\n",
       "        vertical-align: top;\n",
       "    }\n",
       "\n",
       "    .dataframe thead th {\n",
       "        text-align: right;\n",
       "    }\n",
       "</style>\n",
       "<table border=\"1\" class=\"dataframe\">\n",
       "  <thead>\n",
       "    <tr style=\"text-align: right;\">\n",
       "      <th></th>\n",
       "      <th>a</th>\n",
       "      <th>b</th>\n",
       "      <th>c</th>\n",
       "      <th>d</th>\n",
       "    </tr>\n",
       "  </thead>\n",
       "  <tbody>\n",
       "    <tr>\n",
       "      <th>0</th>\n",
       "      <td>Five</td>\n",
       "      <td>3</td>\n",
       "      <td>2.356823</td>\n",
       "      <td>2.383817</td>\n",
       "    </tr>\n",
       "    <tr>\n",
       "      <th>2</th>\n",
       "      <td>One</td>\n",
       "      <td>2</td>\n",
       "      <td>1.582575</td>\n",
       "      <td>1.772738</td>\n",
       "    </tr>\n",
       "    <tr>\n",
       "      <th>3</th>\n",
       "      <td>One</td>\n",
       "      <td>1</td>\n",
       "      <td>2.521434</td>\n",
       "      <td>3.176768</td>\n",
       "    </tr>\n",
       "    <tr>\n",
       "      <th>4</th>\n",
       "      <td>Five</td>\n",
       "      <td>2</td>\n",
       "      <td>1.170697</td>\n",
       "      <td>2.871335</td>\n",
       "    </tr>\n",
       "    <tr>\n",
       "      <th>5</th>\n",
       "      <td>Three</td>\n",
       "      <td>2</td>\n",
       "      <td>3.339852</td>\n",
       "      <td>3.259460</td>\n",
       "    </tr>\n",
       "    <tr>\n",
       "      <th>6</th>\n",
       "      <td>Five</td>\n",
       "      <td>2</td>\n",
       "      <td>1.019235</td>\n",
       "      <td>1.421825</td>\n",
       "    </tr>\n",
       "    <tr>\n",
       "      <th>7</th>\n",
       "      <td>One</td>\n",
       "      <td>3</td>\n",
       "      <td>2.574255</td>\n",
       "      <td>1.018280</td>\n",
       "    </tr>\n",
       "    <tr>\n",
       "      <th>8</th>\n",
       "      <td>One</td>\n",
       "      <td>1</td>\n",
       "      <td>2.709086</td>\n",
       "      <td>1.974258</td>\n",
       "    </tr>\n",
       "  </tbody>\n",
       "</table>\n",
       "</div>"
      ],
      "text/plain": [
       "       a  b         c         d\n",
       "0   Five  3  2.356823  2.383817\n",
       "2    One  2  1.582575  1.772738\n",
       "3    One  1  2.521434  3.176768\n",
       "4   Five  2  1.170697  2.871335\n",
       "5  Three  2  3.339852  3.259460\n",
       "6   Five  2  1.019235  1.421825\n",
       "7    One  3  2.574255  1.018280\n",
       "8    One  1  2.709086  1.974258"
      ]
     },
     "execution_count": 13,
     "metadata": {},
     "output_type": "execute_result"
    }
   ],
   "source": [
    "# Problem: Use the original dataframe to create another dataframe that does not have first and last row [1 Points]\n",
    "air=df\n",
    "\n",
    "air.drop([1, 9])"
   ]
  },
  {
   "cell_type": "code",
   "execution_count": 14,
   "metadata": {},
   "outputs": [
    {
     "name": "stdout",
     "output_type": "stream",
     "text": [
      "Five\n",
      "      a  b         c         d\n",
      "0  Five  3  2.356823  2.383817\n",
      "4  Five  2  1.170697  2.871335\n",
      "6  Five  2  1.019235  1.421825\n",
      "One\n",
      "     a  b         c         d\n",
      "2  One  2  1.582575  1.772738\n",
      "3  One  1  2.521434  3.176768\n",
      "7  One  3  2.574255  1.018280\n",
      "8  One  1  2.709086  1.974258\n",
      "9  One  3  3.374600  1.007127\n",
      "Three\n",
      "       a  b         c        d\n",
      "1  Three  2  3.158519  2.42534\n",
      "5  Three  2  3.339852  3.25946\n"
     ]
    }
   ],
   "source": [
    "# Problem: Group and print orignal dataframe by column `a`\n",
    "air = df.groupby(['a'])\n",
    "air\n",
    "for a , df in air:\n",
    "    print(a)\n",
    "    print(df)"
   ]
  },
  {
   "cell_type": "code",
   "execution_count": 15,
   "metadata": {},
   "outputs": [
    {
     "data": {
      "text/html": [
       "<div>\n",
       "<style scoped>\n",
       "    .dataframe tbody tr th:only-of-type {\n",
       "        vertical-align: middle;\n",
       "    }\n",
       "\n",
       "    .dataframe tbody tr th {\n",
       "        vertical-align: top;\n",
       "    }\n",
       "\n",
       "    .dataframe thead th {\n",
       "        text-align: right;\n",
       "    }\n",
       "</style>\n",
       "<table border=\"1\" class=\"dataframe\">\n",
       "  <thead>\n",
       "    <tr style=\"text-align: right;\">\n",
       "      <th></th>\n",
       "      <th>b</th>\n",
       "      <th>c</th>\n",
       "    </tr>\n",
       "  </thead>\n",
       "  <tbody>\n",
       "    <tr>\n",
       "      <th>1</th>\n",
       "      <td>2</td>\n",
       "      <td>3.158519</td>\n",
       "    </tr>\n",
       "    <tr>\n",
       "      <th>5</th>\n",
       "      <td>2</td>\n",
       "      <td>3.339852</td>\n",
       "    </tr>\n",
       "  </tbody>\n",
       "</table>\n",
       "</div>"
      ],
      "text/plain": [
       "   b         c\n",
       "1  2  3.158519\n",
       "5  2  3.339852"
      ]
     },
     "execution_count": 15,
     "metadata": {},
     "output_type": "execute_result"
    }
   ],
   "source": [
    "# Problem: Use the orginal dataframe and drop first and last column [1 Points]\n",
    "df.drop(['a','d'], axis = 1)"
   ]
  },
  {
   "cell_type": "code",
   "execution_count": null,
   "metadata": {},
   "outputs": [],
   "source": []
  },
  {
   "cell_type": "code",
   "execution_count": null,
   "metadata": {},
   "outputs": [],
   "source": []
  },
  {
   "cell_type": "code",
   "execution_count": null,
   "metadata": {},
   "outputs": [],
   "source": []
  }
 ],
 "metadata": {
  "kernelspec": {
   "display_name": "Python 3",
   "language": "python",
   "name": "python3"
  },
  "language_info": {
   "codemirror_mode": {
    "name": "ipython",
    "version": 3
   },
   "file_extension": ".py",
   "mimetype": "text/x-python",
   "name": "python",
   "nbconvert_exporter": "python",
   "pygments_lexer": "ipython3",
   "version": "3.7.6"
  }
 },
 "nbformat": 4,
 "nbformat_minor": 4
}
